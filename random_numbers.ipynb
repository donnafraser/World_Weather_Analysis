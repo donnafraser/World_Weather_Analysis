{
 "cells": [
  {
   "cell_type": "code",
   "execution_count": 1,
   "id": "ad407b0c",
   "metadata": {},
   "outputs": [],
   "source": [
    "# import random module\n",
    "import random"
   ]
  },
  {
   "cell_type": "code",
   "execution_count": 2,
   "id": "8ff5adaa",
   "metadata": {},
   "outputs": [
    {
     "data": {
      "text/plain": [
       "44"
      ]
     },
     "execution_count": 2,
     "metadata": {},
     "output_type": "execute_result"
    }
   ],
   "source": [
    "# using .randint() function to return an integer\n",
    "random.randint(-90, 90)"
   ]
  },
  {
   "cell_type": "code",
   "execution_count": 3,
   "id": "60320d9f",
   "metadata": {},
   "outputs": [
    {
     "data": {
      "text/plain": [
       "0.5372980451263698"
      ]
     },
     "execution_count": 3,
     "metadata": {},
     "output_type": "execute_result"
    }
   ],
   "source": [
    "# using random() function to get single floating-point decimal number \n",
    "random.random()"
   ]
  },
  {
   "cell_type": "code",
   "execution_count": 4,
   "id": "012313f9",
   "metadata": {},
   "outputs": [
    {
     "data": {
      "text/plain": [
       "-32.96294871573578"
      ]
     },
     "execution_count": 4,
     "metadata": {},
     "output_type": "execute_result"
    }
   ],
   "source": [
    "# writing an algorithm using these 2 functions\n",
    "random_number = random.randint (-90, 89) + random.random()\n",
    "# then enter the code below to print out the variable random_number result\n",
    "random_number"
   ]
  },
  {
   "cell_type": "code",
   "execution_count": 5,
   "id": "504aa94c",
   "metadata": {},
   "outputs": [
    {
     "data": {
      "text/plain": [
       "[39.426123216111264,\n",
       " 85.87538977137217,\n",
       " -88.04843814382146,\n",
       " 32.4423664375012,\n",
       " 36.4932900345827,\n",
       " -87.4246703449518,\n",
       " 52.724799699859425,\n",
       " -81.7109151271581,\n",
       " -24.259684436591638,\n",
       " -53.16652282659247]"
      ]
     },
     "execution_count": 5,
     "metadata": {},
     "output_type": "execute_result"
    }
   ],
   "source": [
    "# create while loop \n",
    "# variable X \n",
    "x = 1\n",
    "\n",
    "latitudes = [] # initialize the empty list\n",
    "\n",
    "while x < 11:\n",
    "    \n",
    "    random_lat = random.randint(-90, 89) + random.random()\n",
    "    \n",
    "    latitudes.append(random_lat)\n",
    "    \n",
    "    x += 1\n",
    "    \n",
    "latitudes # printing the output for assigned variable above"
   ]
  },
  {
   "cell_type": "code",
   "execution_count": 6,
   "id": "24ff6b80",
   "metadata": {},
   "outputs": [
    {
     "data": {
      "text/plain": [
       "72"
      ]
     },
     "execution_count": 6,
     "metadata": {},
     "output_type": "execute_result"
    }
   ],
   "source": [
    "# now we'll produce the latitudes using the randrange() function as the above method is long\n",
    "# this function allows to to give two numbers, lower & upper limit, with a step \n",
    "random.randrange(-90, 90, step=1)"
   ]
  },
  {
   "cell_type": "code",
   "execution_count": 7,
   "id": "d7c82d26",
   "metadata": {},
   "outputs": [
    {
     "data": {
      "text/plain": [
       "39"
      ]
     },
     "execution_count": 7,
     "metadata": {},
     "output_type": "execute_result"
    }
   ],
   "source": [
    "random.randrange(-90, 90, step=3) # output number is a number between -90 and 90, where the difference\n",
    "# between each number in the sequence is 3. If you don't add a step, the default is 1"
   ]
  },
  {
   "cell_type": "code",
   "execution_count": 8,
   "id": "b08c829c",
   "metadata": {},
   "outputs": [
    {
     "data": {
      "text/plain": [
       "45.48847620246386"
      ]
     },
     "execution_count": 8,
     "metadata": {},
     "output_type": "execute_result"
    }
   ],
   "source": [
    "# using uniform function\n",
    "random.uniform(-90, 90)"
   ]
  },
  {
   "cell_type": "code",
   "execution_count": 9,
   "id": "549ffd24",
   "metadata": {},
   "outputs": [],
   "source": [
    "# use NumPy module to chain together NumPy module and random module to create an array of lats and longs\n",
    "# import NumPy\n",
    "import numpy as np"
   ]
  },
  {
   "cell_type": "code",
   "execution_count": 10,
   "id": "34805ca9",
   "metadata": {},
   "outputs": [
    {
     "data": {
      "text/plain": [
       "-14.378654959806994"
      ]
     },
     "execution_count": 10,
     "metadata": {},
     "output_type": "execute_result"
    }
   ],
   "source": [
    "# chain together NumPy and random.uniform module (adding zeros past decimal is optional)\n",
    "np.random.uniform(-90.000, 90.000)\n",
    "# can also be written np.random.uniform(low=-90, high=90)\n",
    "# this will produce 50 floating-point decimals if you use the size parameter\n",
    "#  np.random.uniform(-90.000, 90.000, size=50) - see below"
   ]
  },
  {
   "cell_type": "code",
   "execution_count": 11,
   "id": "2047a2ff",
   "metadata": {},
   "outputs": [
    {
     "data": {
      "text/plain": [
       "array([ -3.81118778, -67.27905572, -85.96863284,  70.39243219,\n",
       "        17.51401055, -66.07058181,  68.93131088, -36.9200316 ,\n",
       "       -30.15561082,  61.13166145,  45.03119167,  54.00629423,\n",
       "        86.25360818,  60.19118347,  79.99813931, -55.24455005,\n",
       "        80.79562661, -66.70502942,  13.62280122, -13.64423515,\n",
       "       -64.11291643, -80.22549351,  72.64255792,  19.35724648,\n",
       "        67.5536233 ,  67.33569204, -82.4772164 , -52.25913221,\n",
       "        87.50274182, -62.78558319, -79.42880405, -44.12378703,\n",
       "        85.3808129 , -11.01909265, -27.97148684,  49.44304135,\n",
       "       -46.65222088,  35.15286754,  64.64083787, -19.14198169,\n",
       "        76.62725991,  -1.43653049, -19.32301484,  44.0586173 ,\n",
       "       -34.76598377,  30.6931339 ,  89.61057928, -60.95580918,\n",
       "        73.1265182 , -57.84031854])"
      ]
     },
     "execution_count": 11,
     "metadata": {},
     "output_type": "execute_result"
    }
   ],
   "source": [
    "np.random.uniform(-90.000, 90.000, size=50)"
   ]
  },
  {
   "cell_type": "code",
   "execution_count": 12,
   "id": "2a6e0e47",
   "metadata": {},
   "outputs": [],
   "source": [
    "# Now let's see how long it takes to run code to get 1,500 items\n",
    "# Import timeit.\n",
    "\n",
    "import timeit"
   ]
  },
  {
   "cell_type": "code",
   "execution_count": 13,
   "id": "c01d8749",
   "metadata": {},
   "outputs": [
    {
     "name": "stdout",
     "output_type": "stream",
     "text": [
      "10.8 µs ± 291 ns per loop (mean ± std. dev. of 7 runs, 100000 loops each)\n"
     ]
    }
   ],
   "source": [
    "#run using MAGIC COMMAND %timeit\n",
    "\n",
    "%timeit np.random.uniform(-90.000, 90.000, size=1500)\n",
    "\n",
    "# the output is the amount of time it took to run the code for 7 runs and 1,000 loops per run"
   ]
  },
  {
   "cell_type": "code",
   "execution_count": 14,
   "id": "4b0cbde0",
   "metadata": {},
   "outputs": [
    {
     "name": "stdout",
     "output_type": "stream",
     "text": [
      "2.28 ms ± 180 µs per loop (mean ± std. dev. of 7 runs, 100 loops each)\n"
     ]
    }
   ],
   "source": [
    "# running while loop as a function to check time it takes\n",
    "\n",
    "def latitudes(size):\n",
    "    latitudes = []\n",
    "    x = 0\n",
    "    while x < (size):\n",
    "        random_lat = random.randint(-90, 90) + random.random()\n",
    "        latitudes.append(random_lat)\n",
    "        x += 1\n",
    "    return latitudes\n",
    "# Call the function with 1500.\n",
    "%timeit latitudes(1500)\n",
    "\n",
    "# output for this shows us 1.26 milliseconds below"
   ]
  },
  {
   "cell_type": "code",
   "execution_count": null,
   "id": "beb5dd89",
   "metadata": {},
   "outputs": [],
   "source": []
  }
 ],
 "metadata": {
  "kernelspec": {
   "display_name": "PythonData",
   "language": "python",
   "name": "pythondata"
  },
  "language_info": {
   "codemirror_mode": {
    "name": "ipython",
    "version": 3
   },
   "file_extension": ".py",
   "mimetype": "text/x-python",
   "name": "python",
   "nbconvert_exporter": "python",
   "pygments_lexer": "ipython3",
   "version": "3.7.15"
  }
 },
 "nbformat": 4,
 "nbformat_minor": 5
}
