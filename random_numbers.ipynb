{
 "cells": [
  {
   "cell_type": "code",
   "execution_count": 1,
   "id": "ad407b0c",
   "metadata": {},
   "outputs": [],
   "source": [
    "# import random module\n",
    "import random"
   ]
  },
  {
   "cell_type": "code",
   "execution_count": 2,
   "id": "8ff5adaa",
   "metadata": {},
   "outputs": [
    {
     "data": {
      "text/plain": [
       "-38"
      ]
     },
     "execution_count": 2,
     "metadata": {},
     "output_type": "execute_result"
    }
   ],
   "source": [
    "# using .randint() function to return an integer\n",
    "random.randint(-90, 90)"
   ]
  },
  {
   "cell_type": "code",
   "execution_count": 3,
   "id": "60320d9f",
   "metadata": {},
   "outputs": [
    {
     "data": {
      "text/plain": [
       "0.7506074732263645"
      ]
     },
     "execution_count": 3,
     "metadata": {},
     "output_type": "execute_result"
    }
   ],
   "source": [
    "# using random() function to get single floating-point decimal number \n",
    "random.random()"
   ]
  },
  {
   "cell_type": "code",
   "execution_count": 4,
   "id": "012313f9",
   "metadata": {},
   "outputs": [
    {
     "data": {
      "text/plain": [
       "-60.26413900064851"
      ]
     },
     "execution_count": 4,
     "metadata": {},
     "output_type": "execute_result"
    }
   ],
   "source": [
    "# writing an algorithm using these 2 functions\n",
    "random_number = random.randint (-90, 89) + random.random()\n",
    "# then enter the code below to print out the variable random_number result\n",
    "random_number"
   ]
  },
  {
   "cell_type": "code",
   "execution_count": 5,
   "id": "504aa94c",
   "metadata": {},
   "outputs": [
    {
     "data": {
      "text/plain": [
       "[13.38182477508173,\n",
       " -47.85418520421198,\n",
       " -48.055829005721826,\n",
       " -52.25976649403332,\n",
       " -86.5339290175272,\n",
       " -67.7757573239056,\n",
       " 66.74206952451999,\n",
       " 24.876642555882583,\n",
       " -77.04720821301672,\n",
       " 74.55832769235155]"
      ]
     },
     "execution_count": 5,
     "metadata": {},
     "output_type": "execute_result"
    }
   ],
   "source": [
    "# create while loop \n",
    "# variable X \n",
    "x = 1\n",
    "\n",
    "latitudes = [] # initialize the empty list\n",
    "\n",
    "while x < 11:\n",
    "    \n",
    "    random_lat = random.randint(-90, 89) + random.random()\n",
    "    \n",
    "    latitudes.append(random_lat)\n",
    "    \n",
    "    x += 1\n",
    "    \n",
    "latitudes # printing the output for assigned variable above"
   ]
  },
  {
   "cell_type": "code",
   "execution_count": 6,
   "id": "24ff6b80",
   "metadata": {},
   "outputs": [
    {
     "data": {
      "text/plain": [
       "88"
      ]
     },
     "execution_count": 6,
     "metadata": {},
     "output_type": "execute_result"
    }
   ],
   "source": [
    "# now we'll produce the latitudes using the randrange() function as the above method is long\n",
    "# this function allows to to give two numbers, lower & upper limit, with a step \n",
    "random.randrange(-90, 90, step=1)"
   ]
  },
  {
   "cell_type": "code",
   "execution_count": 7,
   "id": "d7c82d26",
   "metadata": {},
   "outputs": [
    {
     "data": {
      "text/plain": [
       "3"
      ]
     },
     "execution_count": 7,
     "metadata": {},
     "output_type": "execute_result"
    }
   ],
   "source": [
    "random.randrange(-90, 90, step=3) # output number is a number between -90 and 90, where the difference\n",
    "# between each number in the sequence is 3. If you don't add a step, the default is 1"
   ]
  },
  {
   "cell_type": "code",
   "execution_count": 8,
   "id": "b08c829c",
   "metadata": {},
   "outputs": [
    {
     "data": {
      "text/plain": [
       "-67.51521287326102"
      ]
     },
     "execution_count": 8,
     "metadata": {},
     "output_type": "execute_result"
    }
   ],
   "source": [
    "# using uniform function\n",
    "random.uniform(-90, 90)"
   ]
  },
  {
   "cell_type": "code",
   "execution_count": 9,
   "id": "549ffd24",
   "metadata": {},
   "outputs": [],
   "source": [
    "# use NumPy module to chain together NumPy module and random module to create an array of lats and longs\n",
    "# import NumPy\n",
    "import numpy as np"
   ]
  },
  {
   "cell_type": "code",
   "execution_count": 10,
   "id": "34805ca9",
   "metadata": {},
   "outputs": [
    {
     "data": {
      "text/plain": [
       "-81.64561241709632"
      ]
     },
     "execution_count": 10,
     "metadata": {},
     "output_type": "execute_result"
    }
   ],
   "source": [
    "# chain together NumPy and random.uniform module (adding zeros past decimal is optional)\n",
    "np.random.uniform(-90.000, 90.000)\n",
    "# can also be written np.random.uniform(low=-90, high=90)\n",
    "# this will produce 50 floating-point decimals if you use the size parameter\n",
    "#  np.random.uniform(-90.000, 90.000, size=50) - see below"
   ]
  },
  {
   "cell_type": "code",
   "execution_count": 11,
   "id": "2047a2ff",
   "metadata": {},
   "outputs": [
    {
     "data": {
      "text/plain": [
       "array([ 28.63365803, -56.56375348, -81.9758635 ,  38.58974784,\n",
       "       -35.47426804,  -7.48221574,  61.44996496, -26.69212077,\n",
       "       -12.89071568,  42.61021431, -25.58117881,  -1.15242131,\n",
       "        44.71442042, -75.67467224, -59.33321414, -20.83319422,\n",
       "       -14.04701297,  14.0570783 , -72.71523649,   8.72984467,\n",
       "        16.21135165, -14.33278674,  17.85729569,  85.82045643,\n",
       "       -39.08077162, -76.75184764,  31.29739147,  27.31776291,\n",
       "        10.42167603,  86.24157561, -45.98710755,  20.01689458,\n",
       "        16.79287328, -89.37708596,  62.4224799 ,  81.99928538,\n",
       "        71.13844705,  49.69852157, -33.32055829, -84.50800979,\n",
       "        79.16816961,  32.47935808,   5.32661122,  69.27959288,\n",
       "        15.93698344,  57.11838944,   4.6544385 , -45.54223354,\n",
       "        46.79973259,   9.98797159])"
      ]
     },
     "execution_count": 11,
     "metadata": {},
     "output_type": "execute_result"
    }
   ],
   "source": [
    "np.random.uniform(-90.000, 90.000, size=50)"
   ]
  },
  {
   "cell_type": "code",
   "execution_count": 12,
   "id": "2a6e0e47",
   "metadata": {},
   "outputs": [],
   "source": [
    "# Now let's see how long it takes to run code to get 1,500 items\n",
    "# Import timeit.\n",
    "\n",
    "import timeit"
   ]
  },
  {
   "cell_type": "code",
   "execution_count": 13,
   "id": "c01d8749",
   "metadata": {},
   "outputs": [
    {
     "name": "stdout",
     "output_type": "stream",
     "text": [
      "12.4 µs ± 2.22 µs per loop (mean ± std. dev. of 7 runs, 100000 loops each)\n"
     ]
    }
   ],
   "source": [
    "#run using MAGIC COMMAND %timeit\n",
    "\n",
    "%timeit np.random.uniform(-90.000, 90.000, size=1500)\n",
    "\n",
    "# the output is the amount of time it took to run the code for 7 runs and 1,000 loops per run"
   ]
  },
  {
   "cell_type": "code",
   "execution_count": 14,
   "id": "4b0cbde0",
   "metadata": {},
   "outputs": [
    {
     "name": "stdout",
     "output_type": "stream",
     "text": [
      "1.33 ms ± 104 µs per loop (mean ± std. dev. of 7 runs, 1000 loops each)\n"
     ]
    }
   ],
   "source": [
    "# running while loop as a function to check time it takes\n",
    "\n",
    "def latitudes(size):\n",
    "    latitudes = []\n",
    "    x = 0\n",
    "    while x < (size):\n",
    "        random_lat = random.randint(-90, 90) + random.random()\n",
    "        latitudes.append(random_lat)\n",
    "        x += 1\n",
    "    return latitudes\n",
    "# Call the function with 1500.\n",
    "%timeit latitudes(1500)\n",
    "\n",
    "# output for this shows us 1.26 milliseconds below"
   ]
  },
  {
   "cell_type": "code",
   "execution_count": null,
   "id": "beb5dd89",
   "metadata": {},
   "outputs": [],
   "source": []
  }
 ],
 "metadata": {
  "kernelspec": {
   "display_name": "PythonData",
   "language": "python",
   "name": "pythondata"
  },
  "language_info": {
   "codemirror_mode": {
    "name": "ipython",
    "version": 3
   },
   "file_extension": ".py",
   "mimetype": "text/x-python",
   "name": "python",
   "nbconvert_exporter": "python",
   "pygments_lexer": "ipython3",
   "version": "3.7.15 (default, Nov 24 2022, 18:44:54) [MSC v.1916 64 bit (AMD64)]"
  }
 },
 "nbformat": 4,
 "nbformat_minor": 5
}
